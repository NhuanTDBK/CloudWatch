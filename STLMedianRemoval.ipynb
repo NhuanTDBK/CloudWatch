{
 "metadata": {
  "name": "",
  "signature": "sha256:8fde38cc63bb6a94359fee442b00b52ed11c0addf7d618a0404cdb5b2dc57285"
 },
 "nbformat": 3,
 "nbformat_minor": 0,
 "worksheets": [
  {
   "cells": [
    {
     "cell_type": "code",
     "collapsed": false,
     "input": [
      "import numpy as np\n",
      "import statsmodels.api as sm\n",
      "import statsmodels.formula.api as smf\n",
      "import pandas as pd\n",
      "# import seaborn as sb\n",
      "import matplotlib.pyplot as plt"
     ],
     "language": "python",
     "metadata": {},
     "outputs": [],
     "prompt_number": 2
    },
    {
     "cell_type": "code",
     "collapsed": false,
     "input": [
      "dat = pd.read_csv('data/vc_1.json_remake',index_col=0,parse_dates=True)\n",
      "dat.points.interpolate(inplace=True)\n",
      "# 24h * 60min / (15min) * 7 days\n",
      "decomfreq = 24 * 60"
     ],
     "language": "python",
     "metadata": {},
     "outputs": [],
     "prompt_number": 3
    },
    {
     "cell_type": "code",
     "collapsed": false,
     "input": [
      "dat = pd.read_csv('data/vc_3.json_remake',index_col=0,parse_dates=True)\n",
      "dat.points.interpolate(inplace=True)\n",
      "decomfreq = 24 * 60\n",
      "%matplotlib\n",
      "seasonal_decomp(data=dat.points,freq=decomfreq)"
     ],
     "language": "python",
     "metadata": {},
     "outputs": [
      {
       "output_type": "stream",
       "stream": "stdout",
       "text": [
        "Using matplotlib backend: TkAgg\n"
       ]
      },
      {
       "output_type": "stream",
       "stream": "stderr",
       "text": [
        "/usr/lib/python2.7/dist-packages/statsmodels/tsa/filters/filtertools.py:28: VisibleDeprecationWarning: using a non-integer number instead of an integer will result in an error in the future\n",
        "  return np.r_[[np.nan] * head, x, [np.nan] * tail]\n"
       ]
      },
      {
       "ename": "AttributeError",
       "evalue": "'Series' object has no attribute 'rolling'",
       "output_type": "pyerr",
       "traceback": [
        "\u001b[0;31m---------------------------------------------------------------------------\u001b[0m\n\u001b[0;31mAttributeError\u001b[0m                            Traceback (most recent call last)",
        "\u001b[0;32m<ipython-input-6-e655d196bfd6>\u001b[0m in \u001b[0;36m<module>\u001b[0;34m()\u001b[0m\n\u001b[1;32m      3\u001b[0m \u001b[0mdecomfreq\u001b[0m \u001b[0;34m=\u001b[0m \u001b[0;36m24\u001b[0m \u001b[0;34m*\u001b[0m \u001b[0;36m60\u001b[0m\u001b[0;34m\u001b[0m\u001b[0m\n\u001b[1;32m      4\u001b[0m \u001b[0mget_ipython\u001b[0m\u001b[0;34m(\u001b[0m\u001b[0;34m)\u001b[0m\u001b[0;34m.\u001b[0m\u001b[0mmagic\u001b[0m\u001b[0;34m(\u001b[0m\u001b[0;34mu'matplotlib'\u001b[0m\u001b[0;34m)\u001b[0m\u001b[0;34m\u001b[0m\u001b[0m\n\u001b[0;32m----> 5\u001b[0;31m \u001b[0mseasonal_decomp\u001b[0m\u001b[0;34m(\u001b[0m\u001b[0mdata\u001b[0m\u001b[0;34m=\u001b[0m\u001b[0mdat\u001b[0m\u001b[0;34m.\u001b[0m\u001b[0mpoints\u001b[0m\u001b[0;34m,\u001b[0m\u001b[0mfreq\u001b[0m\u001b[0;34m=\u001b[0m\u001b[0mdecomfreq\u001b[0m\u001b[0;34m)\u001b[0m\u001b[0;34m\u001b[0m\u001b[0m\n\u001b[0m",
        "\u001b[0;32m<ipython-input-5-f8e805fd0619>\u001b[0m in \u001b[0;36mseasonal_decomp\u001b[0;34m(data, freq, model, mode)\u001b[0m\n\u001b[1;32m      9\u001b[0m         \u001b[0mstd_nan\u001b[0m \u001b[0;34m=\u001b[0m \u001b[0mnp\u001b[0m\u001b[0;34m.\u001b[0m\u001b[0mnanstd\u001b[0m\u001b[0;34m(\u001b[0m\u001b[0mrandom\u001b[0m\u001b[0;34m)\u001b[0m\u001b[0;34m\u001b[0m\u001b[0m\n\u001b[1;32m     10\u001b[0m     \u001b[0;32melif\u001b[0m\u001b[0;34m(\u001b[0m\u001b[0mmode\u001b[0m\u001b[0;34m==\u001b[0m\u001b[0;34m'median'\u001b[0m\u001b[0;34m)\u001b[0m\u001b[0;34m:\u001b[0m\u001b[0;34m\u001b[0m\u001b[0m\n\u001b[0;32m---> 11\u001b[0;31m         \u001b[0mrolling_median\u001b[0m \u001b[0;34m=\u001b[0m \u001b[0mrandom\u001b[0m\u001b[0;34m.\u001b[0m\u001b[0mrolling\u001b[0m\u001b[0;34m(\u001b[0m\u001b[0;36m3\u001b[0m\u001b[0;34m)\u001b[0m\u001b[0;34m.\u001b[0m\u001b[0mmedian\u001b[0m\u001b[0;34m(\u001b[0m\u001b[0;34m)\u001b[0m\u001b[0;34m\u001b[0m\u001b[0m\n\u001b[0m\u001b[1;32m     12\u001b[0m         \u001b[0mmean_nan\u001b[0m \u001b[0;34m=\u001b[0m \u001b[0mnp\u001b[0m\u001b[0;34m.\u001b[0m\u001b[0mnanmean\u001b[0m\u001b[0;34m(\u001b[0m\u001b[0mrolling_median\u001b[0m\u001b[0;34m)\u001b[0m\u001b[0;34m\u001b[0m\u001b[0m\n\u001b[1;32m     13\u001b[0m         \u001b[0mstd_nan\u001b[0m \u001b[0;34m=\u001b[0m \u001b[0mnp\u001b[0m\u001b[0;34m.\u001b[0m\u001b[0mnanstd\u001b[0m\u001b[0;34m(\u001b[0m\u001b[0mrolling_median\u001b[0m\u001b[0;34m)\u001b[0m\u001b[0;34m\u001b[0m\u001b[0m\n",
        "\u001b[0;32m/usr/lib/python2.7/dist-packages/pandas/core/generic.pyc\u001b[0m in \u001b[0;36m__getattr__\u001b[0;34m(self, name)\u001b[0m\n\u001b[1;32m   2358\u001b[0m                 \u001b[0;32mreturn\u001b[0m \u001b[0mself\u001b[0m\u001b[0;34m[\u001b[0m\u001b[0mname\u001b[0m\u001b[0;34m]\u001b[0m\u001b[0;34m\u001b[0m\u001b[0m\n\u001b[1;32m   2359\u001b[0m             raise AttributeError(\"'%s' object has no attribute '%s'\" %\n\u001b[0;32m-> 2360\u001b[0;31m                                  (type(self).__name__, name))\n\u001b[0m\u001b[1;32m   2361\u001b[0m \u001b[0;34m\u001b[0m\u001b[0m\n\u001b[1;32m   2362\u001b[0m     \u001b[0;32mdef\u001b[0m \u001b[0m__setattr__\u001b[0m\u001b[0;34m(\u001b[0m\u001b[0mself\u001b[0m\u001b[0;34m,\u001b[0m \u001b[0mname\u001b[0m\u001b[0;34m,\u001b[0m \u001b[0mvalue\u001b[0m\u001b[0;34m)\u001b[0m\u001b[0;34m:\u001b[0m\u001b[0;34m\u001b[0m\u001b[0m\n",
        "\u001b[0;31mAttributeError\u001b[0m: 'Series' object has no attribute 'rolling'"
       ]
      }
     ],
     "prompt_number": 6
    },
    {
     "cell_type": "code",
     "collapsed": false,
     "input": [],
     "language": "python",
     "metadata": {},
     "outputs": [
      {
       "output_type": "stream",
       "stream": "stdout",
       "text": [
        "Using matplotlib backend: Qt4Agg\n"
       ]
      },
      {
       "metadata": {},
       "output_type": "pyout",
       "prompt_number": 136,
       "text": [
        "Int64Index([ 1225,  1227,  1229,  1230,  1233,  9920,  9923,  9941,  9947,\n",
        "             9953,\n",
        "            ...\n",
        "            30184, 30188, 30203, 30253, 30772, 30775, 30850, 30911, 34568,\n",
        "            37453],\n",
        "           dtype='int64', length=125)"
       ]
      }
     ],
     "prompt_number": 136
    },
    {
     "cell_type": "code",
     "collapsed": false,
     "input": [
      "def seasonal_decomp(data=None, freq=None,model='addtitive',mode='median'):\n",
      "    dat = data\n",
      "    decomfreq = freq\n",
      "    res = sm.tsa.seasonal_decompose(dat.interpolate().tolist(),freq=decomfreq, model=model)\n",
      "#     res.plot()\n",
      "    random = pd.Series(res.resid)\n",
      "    if(mode=='average'):\n",
      "        mean_nan = np.nanmean(random)\n",
      "        std_nan = np.nanstd(random)\n",
      "    elif(mode=='median'):\n",
      "        rolling_median = random.rolling(3).median()\n",
      "        mean_nan = np.nanmean(rolling_median)\n",
      "        std_nan = np.nanstd(rolling_median)\n",
      "    min_val = mean_nan - 4*std_nan\n",
      "    # max_val = mean(random, na.rm = T) + 4*sd(random, na.rm = T)\n",
      "    max_val = mean_nan + 4*std_nan\n",
      "    position = pd.Series(res.resid.tolist(),index=np.arange(res.resid.shape[0]))\n",
      "    anomaly = position[(position>max_val) | (position<min_val)]\n",
      "    # anomalyL = position[(position<min_val)]\n",
      "    # anomaly = anomalyH.append(anomalyL).drop_duplicates()\n",
      "    point_anomaly_idx = anomaly.index\n",
      "    points_anomaly = dat[point_anomaly_idx]\n",
      "    ax = plt.subplot()\n",
      "    # dat.points.plot(ax=ax)\n",
      "    ax.plot(dat, color='red')\n",
      "    ax.plot(points_anomaly,'o')\n",
      "    number_of_anomalies = point_anomaly_idx.shape[0]\n",
      "    ax.set_title(\"Anomaly Detection: %s\"%number_of_anomalies)\n",
      "    return point_anomaly_idx"
     ],
     "language": "python",
     "metadata": {},
     "outputs": [],
     "prompt_number": 5
    },
    {
     "cell_type": "code",
     "collapsed": false,
     "input": [
      "# res = sm.tsa.seasonal_decompose(dat.points.interpolate().tolist(),freq=decomfreq, model='addtitive')\n",
      "# #     res.plot()\n",
      "\n",
      "# # random = pd.Series(res.resid)\n",
      "# # rolling_median = random.rolling(3).median()\n",
      "# # mean_nan = np.nanmean(rolling_median)\n",
      "# # std_nan = np.nanstd(rolling_median)\n",
      "# # min_val = mean(random, na.rm = T) - 4*sd(random, na.rm = T)\n",
      "# random = res.resid\n",
      "# mean_nan = np.nanmean(random)\n",
      "# std_nan = np.nanstd(random)\n",
      "# min_val = mean_nan - 4*std_nan\n",
      "# # max_val = mean(random, na.rm = T) + 4*sd(random, na.rm = T)\n",
      "# max_val = mean_nan + 4*std_nan\n",
      "# # %matplotlib\n",
      "# # ax = plt.subplot()\n",
      "# # ax.plot(res.resid)\n",
      "# # plt.axhline(y=min_val)\n",
      "# # plt.axhline(y=max_val)\n",
      "# position = pd.Series(res.resid.tolist(),index=np.arange(res.resid.shape[0]))\n",
      "# anomaly = position[(position>max_val) | (position<min_val)]\n",
      "# # anomalyL = position[(position<min_val)]\n",
      "# # anomaly = anomalyH.append(anomalyL).drop_duplicates()\n",
      "# point_anomaly_idx = anomaly.index\n",
      "\n",
      "# points_anomaly = dat.points[point_anomaly_idx]\n",
      "# %matplotlib\n",
      "# ax = plt.subplot()\n",
      "# number_of_anomalies = point_anomaly_idx.shape[0]\n",
      "# ax.set_title(\"Anomaly Detection: %s\"%number_of_anomalies)\n",
      "# # dat.points.plot(ax=ax)\n",
      "# ax.plot(dat.points, color='red',linewidth=0.5)\n",
      "# ax.plot(points_anomaly,'o')\n",
      "# ax.grid(False)"
     ],
     "language": "python",
     "metadata": {},
     "outputs": [],
     "prompt_number": 130
    }
   ],
   "metadata": {}
  }
 ]
}