{
 "metadata": {
  "name": ""
 },
 "nbformat": 3,
 "nbformat_minor": 0,
 "worksheets": [
  {
   "cells": [
    {
     "cell_type": "code",
     "collapsed": false,
     "input": [
      "from datetime import datetime\n",
      "import json\n",
      "import random\n",
      "from influxdb import InfluxDBClient,DataFrameClient\n",
      "import pandas as pd"
     ],
     "language": "python",
     "metadata": {},
     "outputs": [],
     "prompt_number": 7
    },
    {
     "cell_type": "code",
     "collapsed": false,
     "input": [
      "client = InfluxDBClient('localhost', 8086, 'root', 'root', 'example')\n",
      "client.create_database('example')"
     ],
     "language": "python",
     "metadata": {},
     "outputs": [],
     "prompt_number": 2
    },
    {
     "cell_type": "code",
     "collapsed": false,
     "input": [
      "dat = pd.read_csv('data/vc_1.csv',index_col=0,parse_dates=True)\n",
      "dat.points.interpolate(inplace=True)"
     ],
     "language": "python",
     "metadata": {},
     "outputs": [],
     "prompt_number": 5
    },
    {
     "cell_type": "code",
     "collapsed": false,
     "input": [
      "client = DataFrameClient(host='127.0.0.1', port=8086, username='root', password='root', database='example')"
     ],
     "language": "python",
     "metadata": {},
     "outputs": [],
     "prompt_number": 11
    },
    {
     "cell_type": "code",
     "collapsed": false,
     "input": [
      "print(\"Write DataFrame\")\n",
      "client.write_points(dat, 'demo')"
     ],
     "language": "python",
     "metadata": {},
     "outputs": [
      {
       "output_type": "stream",
       "stream": "stdout",
       "text": [
        "Write DataFrame\n"
       ]
      },
      {
       "metadata": {},
       "output_type": "pyout",
       "prompt_number": 12,
       "text": [
        "True"
       ]
      }
     ],
     "prompt_number": 12
    },
    {
     "cell_type": "code",
     "collapsed": false,
     "input": [
      "a = client.query(\"select * from demo\")"
     ],
     "language": "python",
     "metadata": {},
     "outputs": [],
     "prompt_number": 14
    },
    {
     "cell_type": "code",
     "collapsed": false,
     "input": [
      "a['demo'].head()"
     ],
     "language": "python",
     "metadata": {},
     "outputs": [
      {
       "html": [
        "<div style=\"max-width:1500px;overflow:auto;\">\n",
        "<table border=\"1\" class=\"dataframe\">\n",
        "  <thead>\n",
        "    <tr style=\"text-align: right;\">\n",
        "      <th></th>\n",
        "      <th>points</th>\n",
        "    </tr>\n",
        "  </thead>\n",
        "  <tbody>\n",
        "    <tr>\n",
        "      <th>2016-04-04 08:46:00+00:00</th>\n",
        "      <td>0.042143</td>\n",
        "    </tr>\n",
        "    <tr>\n",
        "      <th>2016-04-04 08:47:00+00:00</th>\n",
        "      <td>0.041672</td>\n",
        "    </tr>\n",
        "    <tr>\n",
        "      <th>2016-04-04 08:48:00+00:00</th>\n",
        "      <td>0.041384</td>\n",
        "    </tr>\n",
        "    <tr>\n",
        "      <th>2016-04-04 08:49:00+00:00</th>\n",
        "      <td>0.045894</td>\n",
        "    </tr>\n",
        "    <tr>\n",
        "      <th>2016-04-04 08:50:00+00:00</th>\n",
        "      <td>0.048850</td>\n",
        "    </tr>\n",
        "  </tbody>\n",
        "</table>\n",
        "</div>"
       ],
       "metadata": {},
       "output_type": "pyout",
       "prompt_number": 18,
       "text": [
        "                             points\n",
        "2016-04-04 08:46:00+00:00  0.042143\n",
        "2016-04-04 08:47:00+00:00  0.041672\n",
        "2016-04-04 08:48:00+00:00  0.041384\n",
        "2016-04-04 08:49:00+00:00  0.045894\n",
        "2016-04-04 08:50:00+00:00  0.048850"
       ]
      }
     ],
     "prompt_number": 18
    }
   ],
   "metadata": {}
  }
 ]
}