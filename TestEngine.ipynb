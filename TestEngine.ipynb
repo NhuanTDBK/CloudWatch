{
 "cells": [
  {
   "cell_type": "code",
   "execution_count": 1,
   "metadata": {},
   "outputs": [],
   "source": [
    "from service.BaseEngine import BaseEngine\n",
    "from utils.auto_load import AutoLoad\n",
    "import pandas as pd\n",
    "from influxdb.resultset import ResultSet"
   ]
  },
  {
   "cell_type": "code",
   "execution_count": 2,
   "metadata": {},
   "outputs": [],
   "source": [
    "loader = AutoLoad()\n",
    "engine = loader.auto_load_engine_default(method='SHESD')"
   ]
  },
  {
   "cell_type": "code",
   "execution_count": 11,
   "metadata": {},
   "outputs": [
    {
     "name": "stdout",
     "output_type": "stream",
     "text": [
      "Engine is already\n",
      "Connect to database server\n"
     ]
    }
   ],
   "source": [
    "service = BaseEngine(engine=engine,db_name='example',measurement='vc1_2weeks', number_of_days=20)"
   ]
  },
  {
   "cell_type": "code",
   "execution_count": 15,
   "metadata": {},
   "outputs": [
    {
     "name": "stdout",
     "output_type": "stream",
     "text": [
      "Get latest time series points\n"
     ]
    }
   ],
   "source": [
    "result = service.query_analyzed()\n",
    "sorted_res = result.tz_convert(None).sort(ascending=True).drop_duplicates(keep='first')"
   ]
  },
  {
   "cell_type": "code",
   "execution_count": 17,
   "metadata": {},
   "outputs": [],
   "source": [
    "a = service.fit_predict(sorted_res['value'])"
   ]
  },
  {
   "cell_type": "code",
   "execution_count": 19,
   "metadata": {},
   "outputs": [],
   "source": [
    "c = service.engine.produce()"
   ]
  },
  {
   "cell_type": "code",
   "execution_count": 21,
   "metadata": {},
   "outputs": [
    {
     "data": {
      "text/plain": [
       "True"
      ]
     },
     "execution_count": 21,
     "metadata": {},
     "output_type": "execute_result"
    }
   ],
   "source": [
    "service.update_db(c)"
   ]
  },
  {
   "cell_type": "code",
   "execution_count": null,
   "metadata": {},
   "outputs": [],
   "source": [
    ""
   ]
  }
 ],
 "metadata": {
  "name": ""
 },
 "nbformat": 4,
 "nbformat_minor": 0
}