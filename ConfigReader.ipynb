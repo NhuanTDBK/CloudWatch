{
 "metadata": {
  "name": ""
 },
 "nbformat": 3,
 "nbformat_minor": 0,
 "worksheets": [
  {
   "cells": [
    {
     "cell_type": "code",
     "collapsed": false,
     "input": [
      "import ConfigParser\n",
      "Config = ConfigParser.ConfigParser()"
     ],
     "language": "python",
     "metadata": {},
     "outputs": [],
     "prompt_number": 17
    },
    {
     "cell_type": "code",
     "collapsed": false,
     "input": [
      "cfgFile = open('config.dat','wb')\n",
      "Config.add_section('DATABASE')\n",
      "Config.set('DATABASE','HOST','localhost')\n",
      "Config.set('DATABASE','USERNAME', 'root')\n",
      "Config.set('DATABASE','PASSWORD', 'root')\n",
      "Config.set('DATABASE','DB', 'vc1')\n",
      "Config.write(cfgFile)\n",
      "cfgFile.close()"
     ],
     "language": "python",
     "metadata": {},
     "outputs": [],
     "prompt_number": 18
    },
    {
     "cell_type": "code",
     "collapsed": false,
     "input": [
      "ls"
     ],
     "language": "python",
     "metadata": {},
     "outputs": [
      {
       "output_type": "stream",
       "stream": "stdout",
       "text": [
        "app.py           config.dat             DataAnalysis.ipynb   \u001b[0m\u001b[01;34mgrid_search\u001b[0m/         \u001b[01;34mio_utils\u001b[0m/          \u001b[01;34mpreprocessing\u001b[0m/  requirements            TimerJSON.ipynb\r\n",
        "CleanupData.py   ConfigReader.ipynb     \u001b[01;34mestimators\u001b[0m/          InfluxDBInput.ipynb  OneClassSVM.ipynb  README          \u001b[01;34mservice\u001b[0m/                \u001b[01;34mutils\u001b[0m/\r\n",
        "CleanupData.pyc  ConvertToInflux.ipynb  \u001b[01;34mexperiments\u001b[0m/         \u001b[01;32m__init__.py\u001b[0m*         \u001b[01;34moutlier\u001b[0m/           README.md       STLMedianRemoval.ipynb\r\n",
        "\u001b[01;34mconfig\u001b[0m/          \u001b[01;34mdata\u001b[0m/                  ExpVCDatatset.ipynb  \u001b[01;32m__init__.pyc\u001b[0m*        \u001b[01;34mperiod_detection\u001b[0m/  requirement     \u001b[01;34mtemplates\u001b[0m/\r\n"
       ]
      }
     ],
     "prompt_number": 19
    }
   ],
   "metadata": {}
  }
 ]
}