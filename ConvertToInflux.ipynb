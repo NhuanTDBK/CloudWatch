{
 "metadata": {
  "name": ""
 },
 "nbformat": 3,
 "nbformat_minor": 0,
 "worksheets": [
  {
   "cells": [
    {
     "cell_type": "code",
     "collapsed": false,
     "input": [
      "from outlier.STLWithMedianRemoval import *\n",
      "import pandas as pd\n",
      "import numpy as np\n",
      "import matplotlib.pyplot as plt\n",
      "from pyculiarity import detect_ts\n",
      "from outlier.SHESD import SHESD\n",
      "import json"
     ],
     "language": "python",
     "metadata": {},
     "outputs": [],
     "prompt_number": 7
    },
    {
     "cell_type": "code",
     "collapsed": false,
     "input": [
      "twitter_example_data = pd.read_csv('data/vc_3.json_remake',\n",
      "                                    usecols=['timestamp', 'points'])\n",
      "twitter_example_data.points.interpolate(inplace=True)"
     ],
     "language": "python",
     "metadata": {},
     "outputs": [],
     "prompt_number": 73
    },
    {
     "cell_type": "code",
     "collapsed": false,
     "input": [
      "results = detect_ts(twitter_example_data,\n",
      "                max_anoms=0.02, \n",
      "                direction='both')"
     ],
     "language": "python",
     "metadata": {},
     "outputs": [],
     "prompt_number": 91
    },
    {
     "cell_type": "code",
     "collapsed": false,
     "input": [
      "data = pd.read_csv('data/vc_2.json_remake',index_col=0,parse_dates=True)\n",
      "estimators = SHESD()\n",
      "a = estimators.fit_predict(data.points)"
     ],
     "language": "python",
     "metadata": {},
     "outputs": [],
     "prompt_number": 12
    },
    {
     "cell_type": "code",
     "collapsed": false,
     "input": [
      "a = estimators.produce()\n",
      "a[:100]"
     ],
     "language": "python",
     "metadata": {},
     "outputs": [
      {
       "metadata": {},
       "output_type": "pyout",
       "prompt_number": 13,
       "text": [
        "'[{\"time\":1459760580000,\"value\":629.5,\"anomaly\":1.0},{\"time\":1459760640000,\"value\":620.833333333,\"ano'"
       ]
      }
     ],
     "prompt_number": 13
    },
    {
     "cell_type": "code",
     "collapsed": false,
     "input": [],
     "language": "python",
     "metadata": {},
     "outputs": []
    },
    {
     "cell_type": "code",
     "collapsed": false,
     "input": [
      "anoms = results['anoms']\n",
      "isinstance(anoms.index,pd.tseries.index.DatetimeIndex)"
     ],
     "language": "python",
     "metadata": {},
     "outputs": [
      {
       "metadata": {},
       "output_type": "pyout",
       "prompt_number": 96,
       "text": [
        "True"
       ]
      }
     ],
     "prompt_number": 96
    },
    {
     "cell_type": "code",
     "collapsed": false,
     "input": [
      "twitter_example_data['timestamp'] = pd.to_datetime(twitter_example_data['timestamp'])\n",
      "b = twitter_example_data.set_index('timestamp', drop=True)\n",
      "\n",
      "b['anomaly'] = np.ones(b.shape[0])"
     ],
     "language": "python",
     "metadata": {},
     "outputs": [],
     "prompt_number": 46
    },
    {
     "cell_type": "code",
     "collapsed": false,
     "input": [],
     "language": "python",
     "metadata": {},
     "outputs": [],
     "prompt_number": 101
    },
    {
     "cell_type": "code",
     "collapsed": false,
     "input": [
      "twitter_example_data['timestamp'] = pd.to_datetime(twitter_example_data['timestamp'])\n",
      "twitter_example_data.set_index('timestamp', drop=True)\n",
      "\n",
      "# make a nice plot\n",
      "    f, ax = plt.subplots(1, 1)\n",
      "    ax.plot(twitter_example_data['timestamp'], twitter_example_data['value'], 'b')\n",
      "    ax.plot(results['anoms'].index, results['anoms']['anoms'], 'ro')\n",
      "    ax.set_title('Detected Anomalies')\n",
      "    ax.set_ylabel('Count')\n",
      "    f.tight_layout()\n",
      "#  twitter_example_data['timestamp'] = pd.to_datetime(twitter_example_data['timestamp'])\n",
      "#     twitter_example_data.set_index('timestamp', drop=True)\n",
      "\n",
      "#     # make a nice plot\n",
      "#     f, ax = plt.subplots(2, 1, sharex=True)\n",
      "#     ax[0].plot(twitter_example_data['timestamp'], twitter_example_data['count'], 'b')\n",
      "#     ax[0].plot(results['anoms'].index, results['anoms']['anoms'], 'ro')\n",
      "#     ax[0].set_title('Detected Anomalies')\n",
      "#     ax[1].set_xlabel('Time Stamp')\n",
      "#     ax[0].set_ylabel('Count')\n",
      "#     ax[1].plot(results['anoms'].index, results['anoms']['anoms'], 'b')\n",
      "#     ax[1].set_ylabel('Anomaly Magnitude')"
     ],
     "language": "python",
     "metadata": {},
     "outputs": [],
     "prompt_number": 71
    }
   ],
   "metadata": {}
  }
 ]
}