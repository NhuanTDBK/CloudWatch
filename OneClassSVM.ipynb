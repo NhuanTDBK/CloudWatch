{
 "worksheets": [
  {
   "cells": [
    {
     "cell_type": "code",
     "execution_count": null,
     "metadata": {},
     "outputs": [],
     "input": [
      "import pandas as pd\n",
      "import numpy as np\n",
      "from sklearn import svm\n",
      "import matplotlib.pyplot as plt"
     ],
     "language": "python",
     "prompt_number": 28
    },
    {
     "cell_type": "code",
     "execution_count": null,
     "metadata": {},
     "outputs": [],
     "input": [
      "dat = pd.read_csv('data/vc_1.json_remake',index_col=0,parse_dates=True)\n",
      "dat.points.interpolate(inplace=True)"
     ],
     "language": "python",
     "prompt_number": 10
    },
    {
     "cell_type": "code",
     "execution_count": null,
     "metadata": {},
     "outputs": [
      {
       "prompt_number": 20,
       "metadata": {},
       "output_type": "pyout",
       "text": [
        "OneClassSVM(cache_size=200, coef0=0.0, degree=3, gamma=0.1, kernel='rbf',\n",
        "      max_iter=-1, nu=0.1, random_state=None, shrinking=True, tol=0.001,\n",
        "      verbose=False)"
       ]
      }
     ],
     "input": [
      "clf = svm.OneClassSVM(nu=0.1, kernel=\"rbf\", gamma=0.1)\n",
      "# X_train = np.r_[dat.points]\n",
      "clf.fit(dat.points.reshape(-1,1))"
     ],
     "language": "python",
     "prompt_number": 20
    },
    {
     "cell_type": "code",
     "execution_count": null,
     "metadata": {},
     "outputs": [],
     "input": [
      "y_pred_train = clf.predict(dat.points.reshape(-1,1))"
     ],
     "language": "python",
     "prompt_number": 21
    },
    {
     "cell_type": "code",
     "execution_count": null,
     "metadata": {},
     "outputs": [],
     "input": [
      "outlier_idx = np.where(y_pred_train==-1)\n",
      "inlier_idx = np.where(y_pred_train==1)\n",
      "outlier_val = dat.points.iloc[outlier_idx]"
     ],
     "language": "python",
     "prompt_number": 37
    },
    {
     "cell_type": "code",
     "execution_count": null,
     "metadata": {},
     "outputs": [],
     "input": [
      "y_pred = clf.decision_function(dat.points.reshape(-1,1)).ravel()"
     ],
     "language": "python",
     "prompt_number": 46
    },
    {
     "cell_type": "code",
     "execution_count": null,
     "metadata": {},
     "outputs": [
      {
       "prompt_number": 47,
       "metadata": {},
       "output_type": "pyout",
       "text": [
        "array([ 1.05038344,  1.03081387,  1.01874634, ...,  1.71282438,\n",
        "        1.55589927,  1.4925848 ])"
       ]
      }
     ],
     "input": [
      "y_pred"
     ],
     "language": "python",
     "prompt_number": 47
    },
    {
     "cell_type": "code",
     "execution_count": null,
     "metadata": {},
     "outputs": [
      {
       "stream": "stdout",
       "output_type": "stream",
       "text": [
        "Using matplotlib backend: Qt4Agg\n"
       ]
      }
     ],
     "input": [
      "%matplotlib\n",
      "fig, ax = plt.subplots()\n",
      "# dat.points.plot(ax=ax)\n",
      "ax.plot(dat.points, color='red')\n",
      "ax.plot(outlier_val,'o')\n",
      "number_of_anomalies = outlier_val.shape[0]\n",
      "ax.set_title(\"Anomaly Detection: %s\"%number_of_anomalies)\n",
      "fig.tight_layout()"
     ],
     "language": "python",
     "prompt_number": 44
    }
   ]
  }
 ],
 "cells": [],
 "metadata": {
  "name": ""
 },
 "nbformat": 4,
 "nbformat_minor": 0
}