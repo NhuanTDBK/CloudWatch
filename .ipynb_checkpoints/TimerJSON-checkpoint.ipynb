{
 "metadata": {
  "name": ""
 },
 "nbformat": 3,
 "nbformat_minor": 0,
 "worksheets": [
  {
   "cells": [
    {
     "cell_type": "code",
     "collapsed": false,
     "input": [
      "import pandas as pd\n",
      "from threading import Timer\n",
      "from collections import deque"
     ],
     "language": "python",
     "metadata": {},
     "outputs": [],
     "prompt_number": 10
    },
    {
     "cell_type": "code",
     "collapsed": false,
     "input": [
      "dat = pd.read_csv('data/vc_1.csv',index_col=0,parse_dates=True)\n",
      "dat.points.interpolate(inplace=True)\n",
      "data = deque(dat.points.tolist())"
     ],
     "language": "python",
     "metadata": {},
     "outputs": [],
     "prompt_number": 9
    },
    {
     "cell_type": "code",
     "collapsed": false,
     "input": [
      "def dequeue():\n",
      "    val = data.popleft()\n",
      "    print val\n",
      "Timer(5, print_time, ()).start()"
     ],
     "language": "python",
     "metadata": {},
     "outputs": [
      {
       "metadata": {},
       "output_type": "pyout",
       "prompt_number": 5,
       "text": [
        "timestamp\n",
        "2016-04-04 08:46:00    0.042143\n",
        "2016-04-04 08:47:00    0.041672\n",
        "2016-04-04 08:48:00    0.041384\n",
        "2016-04-04 08:49:00    0.045894\n",
        "2016-04-04 08:50:00    0.048850\n",
        "Name: points, dtype: float64"
       ]
      }
     ],
     "prompt_number": 5
    }
   ],
   "metadata": {}
  }
 ]
}