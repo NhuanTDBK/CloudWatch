{
 "worksheets": [
  {
   "cells": [
    {
     "cell_type": "code",
     "execution_count": null,
     "metadata": {},
     "outputs": [],
     "input": [
      "import pandas as pd\n",
      "from threading import Timer\n",
      "from collections import deque\n",
      "import time\n",
      "from outlier.STLWithMedianRemoval import *"
     ],
     "language": "python",
     "prompt_number": 35
    },
    {
     "cell_type": "code",
     "execution_count": null,
     "metadata": {},
     "outputs": [],
     "input": [
      "estimator = SeasonalOutlier(freq=24*60,model='add')"
     ],
     "language": "python",
     "prompt_number": 36
    },
    {
     "cell_type": "code",
     "execution_count": null,
     "metadata": {},
     "outputs": [],
     "input": [
      "dat = pd.read_csv('data/vc_1.csv',index_col=0,parse_dates=True)\n",
      "dat.points.interpolate(inplace=True)\n",
      "data = deque(dat.points.tolist())"
     ],
     "language": "python",
     "prompt_number": 37
    },
    {
     "cell_type": "code",
     "execution_count": null,
     "metadata": {},
     "outputs": [
      {
       "stream": "stdout",
       "output_type": "stream",
       "text": [
        "1 loops, best of 3: 105 ms per loop\n"
       ]
      },
      {
       "stream": "stderr",
       "output_type": "stream",
       "text": [
        "/usr/local/lib/python2.7/dist-packages/statsmodels-0.6.1-py2.7-linux-x86_64.egg/statsmodels/tsa/filters/filtertools.py:28: VisibleDeprecationWarning: using a non-integer number instead of an integer will result in an error in the future\n",
        "  return np.r_[[np.nan] * head, x, [np.nan] * tail]\n"
       ]
      }
     ],
     "input": [
      "%%timeit\n",
      "estimator.fit_and_predict(data=dat.points)"
     ],
     "language": "python",
     "prompt_number": 38
    },
    {
     "cell_type": "code",
     "execution_count": null,
     "metadata": {},
     "outputs": [
      {
       "stream": "stdout",
       "output_type": "stream",
       "text": [
        "0.0421430162\n",
        "0.0416723644953"
       ]
      },
      {
       "stream": "stdout",
       "output_type": "stream",
       "text": [
        "\n",
        "0.0413843934342"
       ]
      },
      {
       "stream": "stdout",
       "output_type": "stream",
       "text": [
        "\n",
        "0.0458936677191"
       ]
      },
      {
       "stream": "stdout",
       "output_type": "stream",
       "text": [
        "\n",
        "0.048849905415"
       ]
      },
      {
       "stream": "stdout",
       "output_type": "stream",
       "text": [
        "\n",
        "0.0447558190056"
       ]
      },
      {
       "stream": "stdout",
       "output_type": "stream",
       "text": [
        "\n",
        "0.0466110207971"
       ]
      },
      {
       "stream": "stdout",
       "output_type": "stream",
       "text": [
        "\n",
        "0.0530918453385"
       ]
      },
      {
       "stream": "stdout",
       "output_type": "stream",
       "text": [
        "\n",
        "0.0520495685699"
       ]
      },
      {
       "stream": "stdout",
       "output_type": "stream",
       "text": [
        "\n",
        "0.0952660062817"
       ]
      },
      {
       "stream": "stdout",
       "output_type": "stream",
       "text": [
        "\n",
        "0.0629059194104"
       ]
      },
      {
       "stream": "stdout",
       "output_type": "stream",
       "text": [
        "\n",
        "0.0490730346771"
       ]
      },
      {
       "stream": "stdout",
       "output_type": "stream",
       "text": [
        "\n",
        "0.0532816181512"
       ]
      },
      {
       "stream": "stdout",
       "output_type": "stream",
       "text": [
        "\n",
        "0.0360194330982"
       ]
      },
      {
       "stream": "stdout",
       "output_type": "stream",
       "text": [
        "\n",
        "0.0481704347826"
       ]
      },
      {
       "stream": "stdout",
       "output_type": "stream",
       "text": [
        "\n",
        "0.0448856528418"
       ]
      },
      {
       "stream": "stdout",
       "output_type": "stream",
       "text": [
        "\n",
        "0.038880086815"
       ]
      },
      {
       "stream": "stdout",
       "output_type": "stream",
       "text": [
        "\n",
        "0.0428073970691"
       ]
      },
      {
       "stream": "stdout",
       "output_type": "stream",
       "text": [
        "\n",
        "0.043933912431"
       ]
      },
      {
       "stream": "stdout",
       "output_type": "stream",
       "text": [
        "\n",
        "0.0412844951923"
       ]
      },
      {
       "stream": "stdout",
       "output_type": "stream",
       "text": [
        "\n",
        "0.0471882324659"
       ]
      },
      {
       "stream": "stdout",
       "output_type": "stream",
       "text": [
        "\n",
        "0.0400448961776"
       ]
      },
      {
       "stream": "stdout",
       "output_type": "stream",
       "text": [
        "\n",
        "0.0472291396964"
       ]
      },
      {
       "stream": "stdout",
       "output_type": "stream",
       "text": [
        "\n",
        "0.0481981120358"
       ]
      },
      {
       "stream": "stdout",
       "output_type": "stream",
       "text": [
        "\n",
        "0.0518251587542"
       ]
      },
      {
       "stream": "stdout",
       "output_type": "stream",
       "text": [
        "\n",
        "0.0499832867388"
       ]
      },
      {
       "stream": "stdout",
       "output_type": "stream",
       "text": [
        "\n",
        "0.0523762094823"
       ]
      },
      {
       "stream": "stdout",
       "output_type": "stream",
       "text": [
        "\n",
        "0.0455387018806"
       ]
      },
      {
       "stream": "stdout",
       "output_type": "stream",
       "text": [
        "\n",
        "0.054604197901"
       ]
      },
      {
       "stream": "stdout",
       "output_type": "stream",
       "text": [
        "\n",
        "0.0469644759174"
       ]
      },
      {
       "stream": "stdout",
       "output_type": "stream",
       "text": [
        "\n",
        "0.0504199077537"
       ]
      },
      {
       "stream": "stdout",
       "output_type": "stream",
       "text": [
        "\n",
        "0.0550378658537"
       ]
      },
      {
       "stream": "stdout",
       "output_type": "stream",
       "text": [
        "\n",
        "0.0423696999448"
       ]
      },
      {
       "stream": "stdout",
       "output_type": "stream",
       "text": [
        "\n",
        "0.0496221932965"
       ]
      },
      {
       "stream": "stdout",
       "output_type": "stream",
       "text": [
        "\n",
        "0.0473689575386"
       ]
      },
      {
       "stream": "stdout",
       "output_type": "stream",
       "text": [
        "\n",
        "0.0598452441831"
       ]
      },
      {
       "stream": "stdout",
       "output_type": "stream",
       "text": [
        "\n",
        "0.0476260909812"
       ]
      },
      {
       "stream": "stdout",
       "output_type": "stream",
       "text": [
        "\n",
        "0.101194381541"
       ]
      },
      {
       "stream": "stdout",
       "output_type": "stream",
       "text": [
        "\n",
        "0.0380525395271"
       ]
      },
      {
       "stream": "stdout",
       "output_type": "stream",
       "text": [
        "\n",
        "0.041844368987"
       ]
      },
      {
       "stream": "stdout",
       "output_type": "stream",
       "text": [
        "\n",
        "0.0466333248278"
       ]
      },
      {
       "stream": "stdout",
       "output_type": "stream",
       "text": [
        "\n",
        "0.0406328484161"
       ]
      },
      {
       "stream": "stdout",
       "output_type": "stream",
       "text": [
        "\n",
        "0.0399863386209"
       ]
      },
      {
       "stream": "stdout",
       "output_type": "stream",
       "text": [
        "\n",
        "0.0334690604027"
       ]
      },
      {
       "stream": "stdout",
       "output_type": "stream",
       "text": [
        "\n",
        "0.0380240273125"
       ]
      },
      {
       "stream": "stdout",
       "output_type": "stream",
       "text": [
        "\n",
        "0.0398929663609"
       ]
      },
      {
       "stream": "stdout",
       "output_type": "stream",
       "text": [
        "\n",
        "0.0384733897289"
       ]
      },
      {
       "stream": "stdout",
       "output_type": "stream",
       "text": [
        "\n",
        "0.0414750902026"
       ]
      },
      {
       "stream": "stdout",
       "output_type": "stream",
       "text": [
        "\n",
        "0.0352090564532"
       ]
      },
      {
       "stream": "stdout",
       "output_type": "stream",
       "text": [
        "\n",
        "0.0504765168186"
       ]
      },
      {
       "stream": "stdout",
       "output_type": "stream",
       "text": [
        "\n",
        "0.0617037699759"
       ]
      },
      {
       "stream": "stdout",
       "output_type": "stream",
       "text": [
        "\n",
        "0.0411533149171"
       ]
      },
      {
       "stream": "stdout",
       "output_type": "stream",
       "text": [
        "\n",
        "0.0449907635468"
       ]
      },
      {
       "stream": "stdout",
       "output_type": "stream",
       "text": [
        "\n",
        "0.0453143721634"
       ]
      },
      {
       "stream": "stdout",
       "output_type": "stream",
       "text": [
        "\n",
        "0.0495402945452"
       ]
      },
      {
       "stream": "stdout",
       "output_type": "stream",
       "text": [
        "\n",
        "0.0402979703565"
       ]
      },
      {
       "stream": "stdout",
       "output_type": "stream",
       "text": [
        "\n",
        "0.0448035237587"
       ]
      },
      {
       "stream": "stdout",
       "output_type": "stream",
       "text": [
        "\n",
        "0.0445411064285"
       ]
      },
      {
       "stream": "stdout",
       "output_type": "stream",
       "text": [
        "\n",
        "0.05076334476"
       ]
      },
      {
       "stream": "stdout",
       "output_type": "stream",
       "text": [
        "\n",
        "0.0441429864253"
       ]
      },
      {
       "stream": "stdout",
       "output_type": "stream",
       "text": [
        "\n",
        "0.0628982106189"
       ]
      },
      {
       "stream": "stdout",
       "output_type": "stream",
       "text": [
        "\n",
        "0.044280697224"
       ]
      },
      {
       "stream": "stdout",
       "output_type": "stream",
       "text": [
        "\n",
        "0.0369639686684"
       ]
      },
      {
       "stream": "stdout",
       "output_type": "stream",
       "text": [
        "\n",
        "0.0404651007607"
       ]
      },
      {
       "stream": "stdout",
       "output_type": "stream",
       "text": [
        "\n",
        "0.0443075885329"
       ]
      },
      {
       "stream": "stdout",
       "output_type": "stream",
       "text": [
        "\n",
        "0.0390303259091"
       ]
      },
      {
       "stream": "stdout",
       "output_type": "stream",
       "text": [
        "\n",
        "0.0421864005629"
       ]
      },
      {
       "stream": "stdout",
       "output_type": "stream",
       "text": [
        "\n",
        "0.0370567461112"
       ]
      },
      {
       "stream": "stdout",
       "output_type": "stream",
       "text": [
        "\n",
        "0.04"
       ]
      },
      {
       "stream": "stdout",
       "output_type": "stream",
       "text": [
        "\n",
        "0.0407880790326"
       ]
      },
      {
       "stream": "stdout",
       "output_type": "stream",
       "text": [
        "\n",
        "0.0541260105223"
       ]
      },
      {
       "stream": "stdout",
       "output_type": "stream",
       "text": [
        "\n",
        "0.0486540835553"
       ]
      },
      {
       "stream": "stdout",
       "output_type": "stream",
       "text": [
        "\n",
        "0.0426346250269"
       ]
      },
      {
       "stream": "stdout",
       "output_type": "stream",
       "text": [
        "\n",
        "0.0357457893555"
       ]
      },
      {
       "stream": "stdout",
       "output_type": "stream",
       "text": [
        "\n",
        "0.0396820922732"
       ]
      },
      {
       "stream": "stdout",
       "output_type": "stream",
       "text": [
        "\n",
        "0.0363565317762"
       ]
      },
      {
       "stream": "stdout",
       "output_type": "stream",
       "text": [
        "\n",
        "0.0344343953409"
       ]
      },
      {
       "stream": "stdout",
       "output_type": "stream",
       "text": [
        "\n",
        "0.0434448648649"
       ]
      },
      {
       "stream": "stdout",
       "output_type": "stream",
       "text": [
        "\n",
        "0.0407634094151"
       ]
      },
      {
       "stream": "stdout",
       "output_type": "stream",
       "text": [
        "\n",
        "0.0382843185841"
       ]
      },
      {
       "stream": "stdout",
       "output_type": "stream",
       "text": [
        "\n",
        "0.0447047377939"
       ]
      },
      {
       "stream": "stdout",
       "output_type": "stream",
       "text": [
        "\n",
        "0.0363805401406"
       ]
      },
      {
       "stream": "stdout",
       "output_type": "stream",
       "text": [
        "\n",
        "0.036724700349"
       ]
      },
      {
       "stream": "stdout",
       "output_type": "stream",
       "text": [
        "\n",
        "0.0446868369352"
       ]
      },
      {
       "stream": "stdout",
       "output_type": "stream",
       "text": [
        "\n",
        "0.0406437651554"
       ]
      },
      {
       "stream": "stdout",
       "output_type": "stream",
       "text": [
        "\n",
        "0.0495855217559"
       ]
      },
      {
       "stream": "stdout",
       "output_type": "stream",
       "text": [
        "\n",
        "0.0331443419704"
       ]
      },
      {
       "stream": "stdout",
       "output_type": "stream",
       "text": [
        "\n",
        "0.0386521904183"
       ]
      },
      {
       "stream": "stdout",
       "output_type": "stream",
       "text": [
        "\n",
        "0.0349747097538"
       ]
      },
      {
       "stream": "stdout",
       "output_type": "stream",
       "text": [
        "\n",
        "0.0414441640379"
       ]
      },
      {
       "stream": "stdout",
       "output_type": "stream",
       "text": [
        "\n",
        "0.0447461273666"
       ]
      },
      {
       "stream": "stdout",
       "output_type": "stream",
       "text": [
        "\n",
        "0.0421990692865"
       ]
      },
      {
       "stream": "stdout",
       "output_type": "stream",
       "text": [
        "\n",
        "0.0389391611615"
       ]
      },
      {
       "stream": "stdout",
       "output_type": "stream",
       "text": [
        "\n",
        "0.0376446981119"
       ]
      },
      {
       "stream": "stdout",
       "output_type": "stream",
       "text": [
        "\n",
        "0.0343149692413"
       ]
      },
      {
       "stream": "stdout",
       "output_type": "stream",
       "text": [
        "\n",
        "0.0417319852109"
       ]
      },
      {
       "stream": "stdout",
       "output_type": "stream",
       "text": [
        "\n",
        "0.0324295001748"
       ]
      },
      {
       "stream": "stdout",
       "output_type": "stream",
       "text": [
        "\n",
        "0.0300486089645"
       ]
      },
      {
       "stream": "stdout",
       "output_type": "stream",
       "text": [
        "\n",
        "0.0299991699992"
       ]
      },
      {
       "stream": "stdout",
       "output_type": "stream",
       "text": [
        "\n",
        "0.028511882858"
       ]
      },
      {
       "stream": "stdout",
       "output_type": "stream",
       "text": [
        "\n"
       ]
      }
     ],
     "input": [
      "i = 100\n",
      "while i > 0:\n",
      "    val = data.popleft()\n",
      "    print val\n",
      "    i-=1\n",
      "    time.sleep(1)"
     ],
     "language": "python",
     "prompt_number": 33
    }
   ]
  }
 ],
 "cells": [],
 "metadata": {
  "name": ""
 },
 "nbformat": 4,
 "nbformat_minor": 0
}